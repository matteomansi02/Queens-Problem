{
 "cells": [
  {
   "cell_type": "code",
   "execution_count": 40,
   "metadata": {},
   "outputs": [
    {
     "name": "stdout",
     "output_type": "stream",
     "text": [
      "[0, 2, 4, 1, 9, 11, 13, 3, 12, 8, 5, 14, 6, 10, 7]\n",
      "(6922, 7482)\n"
     ]
    }
   ],
   "source": [
    "import tracemalloc\n",
    "\n",
    "def IsSafe(test_row,test_col):\n",
    "    \"\"\" \n",
    "    controlla se la regina nella colonna corrente \n",
    "    attacca regine precedentemente posizionate nelle\n",
    "    righe superiori \n",
    "    \"\"\"\n",
    "    for row in range(test_row):\n",
    "        if test_col == current_solution[row]:  \n",
    "            return False\n",
    "        if abs(test_row - row) == abs(test_col - current_solution[row]):    \n",
    "            return False\n",
    "    return True\n",
    "\n",
    "def solver(row):\n",
    "    \"\"\"\n",
    "    funzione ricorsiva che modifica la variabile globale (lista lunghezza N)\n",
    "    fino a trasformarla in una soluzione. \n",
    "    \"\"\"\n",
    "    for col in range(N):\n",
    "        \n",
    "        if not IsSafe(row,col):\n",
    "            continue \n",
    "        else: \n",
    "            current_solution[row] = col  \n",
    "            \n",
    "            if row == N-1:\n",
    "                return True\n",
    "            else:       \n",
    "                found = solver(row + 1)\n",
    "                if found: return True  #appena trovo una soluzione \n",
    "                                       #si esce da tutte le ricorsioni\n",
    "\n",
    "\n",
    "if __name__ == \"__main__\":\n",
    "    \n",
    "    N = int(input('Insert Board Dimension'))\n",
    "    current_solution = [0 for x in range(N)]\n",
    "    tracemalloc.start() \n",
    "    solver(0)\n",
    "    a = tracemalloc.get_traced_memory()\n",
    "    tracemalloc.stop()\n",
    "    print(current_solution)\n",
    "    print(a)\n",
    "    "
   ]
  }
 ],
 "metadata": {
  "kernelspec": {
   "display_name": "Python 3.10.4 64-bit",
   "language": "python",
   "name": "python3"
  },
  "language_info": {
   "codemirror_mode": {
    "name": "ipython",
    "version": 3
   },
   "file_extension": ".py",
   "mimetype": "text/x-python",
   "name": "python",
   "nbconvert_exporter": "python",
   "pygments_lexer": "ipython3",
   "version": "3.10.4"
  },
  "orig_nbformat": 4,
  "vscode": {
   "interpreter": {
    "hash": "d3e10ef16274dd72e574b8fa73b58450b957d8421a2901baded3cca26fcf5dda"
   }
  }
 },
 "nbformat": 4,
 "nbformat_minor": 2
}
