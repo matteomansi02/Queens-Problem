{
 "cells": [
  {
   "cell_type": "code",
   "execution_count": 87,
   "metadata": {},
   "outputs": [
    {
     "name": "stdout",
     "output_type": "stream",
     "text": [
      "([1, 4, 11, 8, 6, 12, 3, 13, 0, 9, 14, 5, 10, 2, 7], 0)\n",
      "(2406, 3010)\n"
     ]
    }
   ],
   "source": [
    "import random\n",
    "import math\n",
    "import tracemalloc\n",
    "\n",
    "def reset(current_state):\n",
    "    \"\"\" \n",
    "    stato iniziale random\n",
    "    \"\"\"\n",
    "    for i in range(N):\n",
    "        current_state[i] = random.randint(0,N-1)\n",
    "    return current_state\n",
    "\n",
    "def f(current_state):  \n",
    "    \"\"\"\n",
    "    funzione obiettivo che conta gli attacchi per ogni regina \n",
    "    sulle regine in righe più in basso \n",
    "    \"\"\" \n",
    "    value = 0\n",
    "    for i in range(N-1):\n",
    "        for j in range(i+1,N):\n",
    "            if current_state[i] == current_state[j]:\n",
    "                value += 1\n",
    "            if abs(current_state[j]-current_state[i]) == abs(j-i):\n",
    "                value += 1\n",
    "    return value\n",
    "\n",
    "def next_state(current_state):\n",
    "    \"\"\"\n",
    "    genera un vicino spostando una regina in una colonna diversa\n",
    "    \"\"\"\n",
    "    neighbor = current_state.copy()\n",
    "    row = random.randint(0,N-1)\n",
    "    possible_col = [x for x in range(N)]\n",
    "    possible_col.remove(neighbor[row])  #non può essere la colonna di partenza\n",
    "    new_col = random.choice(possible_col)\n",
    "    neighbor[row] = new_col\n",
    "    return neighbor\n",
    "\n",
    "\n",
    "def simulated_annealing(f,current,iterations,T0,a):\n",
    "    \"\"\"\n",
    "    annealing a decrescita esponenziale,\n",
    "    può terminare o se finiscono le iterazioni,\n",
    "    o se viene trovata una soluzione\n",
    "    \"\"\"\n",
    "    for i in range(iterations):\n",
    "        T = T0 * a ** i\n",
    "        neighbor = next_state(current) \n",
    "        f_current = f(current)\n",
    "        f_neighbor = f(neighbor)\n",
    "        de = f_neighbor - f_current\n",
    "        if de <= 0:\n",
    "            current = neighbor\n",
    "            if f_neighbor == 0:\n",
    "                return current, f_neighbor\n",
    "        if de > 0 and T > 0.1447:\n",
    "            if random.random() < math.exp(-de/T):\n",
    "                current = neighbor  \n",
    "    return current, f(current)\n",
    "\n",
    "\n",
    "if __name__ == \"__main__\":\n",
    "    N = int(input('Insert Board Dimension'))\n",
    "    current_state = [0 for x in range(N)]\n",
    "    c = reset(current_state)\n",
    "    tracemalloc.start() \n",
    "    final = simulated_annealing(f,c,50000,500000,0.99)\n",
    "    a = tracemalloc.get_traced_memory()\n",
    "    tracemalloc.stop()\n",
    "    print(final)\n",
    "    print(a)\n",
    "    #l = []        --------questa parte serve se si vuole eseguire la funzione più volte e vedere quante soluzioni dà--------\n",
    "    #for i in range(50):\n",
    "        #c = reset(current_state)\n",
    "        #l.append(simulated_annealing(f,c,50000,500000,0.99)[1])\n",
    "\n",
    "    #print(l,l.count(0))\n",
    " "
   ]
  }
 ],
 "metadata": {
  "kernelspec": {
   "display_name": "Python 3.10.4 64-bit",
   "language": "python",
   "name": "python3"
  },
  "language_info": {
   "codemirror_mode": {
    "name": "ipython",
    "version": 3
   },
   "file_extension": ".py",
   "mimetype": "text/x-python",
   "name": "python",
   "nbconvert_exporter": "python",
   "pygments_lexer": "ipython3",
   "version": "3.10.4"
  },
  "orig_nbformat": 4,
  "vscode": {
   "interpreter": {
    "hash": "d3e10ef16274dd72e574b8fa73b58450b957d8421a2901baded3cca26fcf5dda"
   }
  }
 },
 "nbformat": 4,
 "nbformat_minor": 2
}
